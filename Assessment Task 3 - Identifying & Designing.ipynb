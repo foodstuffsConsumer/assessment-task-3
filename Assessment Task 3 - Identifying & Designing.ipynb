{
 "cells": [
  {
   "cell_type": "markdown",
   "metadata": {},
   "source": [
    "# Identifying & Designing\n",
    "\n",
    "### Identifying a Need\n",
    "\n",
    "Need - To improve hand-eye coordination, improve fine motor skills.\n",
    "\n",
    "Problem Statement: Hand-eye coordination and fine motor skills are an important skillset in one's life. A 2D top-down roguelike requiring players to dodge large amounts of projectiles will simultaneously train these skills while providing entertainment.\n",
    "\n",
    "### Requirements Outline\n",
    "\n",
    "- Inputs - The game will use directional keyboard inputs for movement, and mouse inputs for combat.\n",
    "- Processing - Keyboard inputs will cause the game to move the player and check for collisions with obstacles. Mouse inputs will spawn damaging attacks and projectiles.\n",
    "- Outputs - The game will display player position and attacks on screen.\n",
    "- Transmission - The game will feature no multiplayer or online elements, therefore data transmission is unnecessary.\n",
    "- Storage - The player's score, referred to in-game as gold, will be stored locally if it is the highest.\n",
    "\n",
    "### Functional Requirements\n",
    "\n",
    "##### User Interaction\n",
    "WASD Keys - Used for movement. Due to the game being top-down, the W key will simply move your character upwards instead of making them jump.\n",
    "E Key - Used to heal, at the expense of a health kit.\n",
    "LMB - Activates the player's primary attack.\n",
    "RMB - Used for the player's alternate fire.\n",
    "\n",
    "##### Core Gameplay\n",
    "In response to user inputs, the game will be able to move the player, spawn in attacks, and heal the game character.\n",
    "\n",
    "##### Scoring\n",
    "Score, referred to as gold, can be accumulated by killing enemies, bosses, and opening treasure chests, which spawn randomly. On death, if your gold amount was the highest recorded, it will be put in storage to be viewed by the player at any time.\n",
    "\n",
    "### Non-Functional Requirements\n",
    "\n",
    "##### Performance\n",
    "The game should ideally load in under 5 seconds, and respond to user inputs with no lag or delay.\n",
    "\n",
    "##### Usability\n",
    "The game will automatically load a clear, beginner friendly tutorial the first time it is played. After that, a truncated version of it will always be accessable from the main menu. \n",
    "\n",
    "##### Scalability\n",
    "The game should be able to scale to include more content, such as additional room designs, bosses, themes, and enemies without issue.\n",
    "\n",
    "### Social and Ethical Issues\n",
    "Equity - The distribution of resources to suit people's needs, which recognises that everyone has different starting points and adjusts resource distribution accordingly.\n",
    "\n",
    "Accessability - The design feature of products that allow them to be used by people of all abilites and disabilities."
   ]
  }
 ],
 "metadata": {
  "kernelspec": {
   "display_name": "Python 3",
   "language": "python",
   "name": "python3"
  },
  "language_info": {
   "name": "python",
   "version": "3.11.9"
  }
 },
 "nbformat": 4,
 "nbformat_minor": 2
}
